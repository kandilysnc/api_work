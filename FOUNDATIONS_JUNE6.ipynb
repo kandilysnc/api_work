{
 "cells": [
  {
   "cell_type": "code",
   "execution_count": 2,
   "metadata": {},
   "outputs": [],
   "source": [
    "import requests"
   ]
  },
  {
   "cell_type": "code",
   "execution_count": 10,
   "metadata": {},
   "outputs": [
    {
     "data": {
      "text/plain": [
       "4600"
      ]
     },
     "execution_count": 10,
     "metadata": {},
     "output_type": "execute_result"
    }
   ],
   "source": [
    "response = requests.get('https://pokeapi.co/api/v2/pokemon/snorlax')\n",
    "snorlax_weight = response.json()\n",
    "snorlax_weight ['weight']"
   ]
  },
  {
   "cell_type": "code",
   "execution_count": 12,
   "metadata": {},
   "outputs": [
    {
     "data": {
      "text/plain": [
       "60"
      ]
     },
     "execution_count": 12,
     "metadata": {},
     "output_type": "execute_result"
    }
   ],
   "source": [
    "response = requests.get('https://pokeapi.co/api/v2/pokemon/pikachu')\n",
    "pikachu_weight = response.json()\n",
    "pikachu_weight ['weight']"
   ]
  },
  {
   "cell_type": "code",
   "execution_count": 13,
   "metadata": {},
   "outputs": [
    {
     "data": {
      "text/plain": [
       "4540"
      ]
     },
     "execution_count": 13,
     "metadata": {},
     "output_type": "execute_result"
    }
   ],
   "source": [
    "snorlax_weight ['weight'] - pikachu_weight ['weight']"
   ]
  },
  {
   "cell_type": "markdown",
   "metadata": {},
   "source": [
    "**CATATAN SOAL API I I API NYT build the API. Learn more about API! beberapa api kayak starwars dan pokemon kita gak perlu register, tapi kalau darksky perlu register harus kasih email sama punya data kita. api bisa dipakai untuk mengecek keberadaan kita. api keys harus disimpan keberadaannya karena orang lain bisa pura pura jadi kita.** \n",
    "\n",
    "GITHUB - tempat naruh code I your code stays in a place called REPOSITORIES I \n",
    "GIT - software runs on your computer, version control\n",
    "\n",
    "GIT gak bisa pakai checkpoint jadi mesti balik ke checkpoint itu. GIT saving code on your machine. \n",
    "\n",
    "subversion - svn\n",
    "command line to git > git -- version \n",
    "\n",
    "MD stands for markdown.\n",
    "\n",
    "github -- install git hub desktop \n",
    "\n",
    "buat checkpoint in git - kalau di delete akan bisa kembali lagi -- buat commit\n",
    "\n",
    "save di visual editor terus tulis deksripsi dan save - di commit master akan masuk ke history \n",
    "\n",
    "\n",
    "PULL ORIGIN - akan tarik perubahan di website dan akan bawa ke komputer\n",
    "PUSH ORIGIN - akan sendng perubahan di komputer dan bawa ke website\n",
    "\n",
    "jangan edit di website - langsung di komputer"
   ]
  },
  {
   "cell_type": "code",
   "execution_count": 4,
   "metadata": {},
   "outputs": [
    {
     "data": {
      "text/plain": [
       "dict"
      ]
     },
     "execution_count": 4,
     "metadata": {},
     "output_type": "execute_result"
    }
   ],
   "source": [
    "type (data)"
   ]
  },
  {
   "cell_type": "markdown",
   "metadata": {},
   "source": [
    "when u use statistics, requests, do import I if you cannot do this I to know where you at #pwd or !pip install requests"
   ]
  },
  {
   "cell_type": "code",
   "execution_count": 5,
   "metadata": {},
   "outputs": [
    {
     "data": {
      "text/plain": [
       "dict_keys(['abilities', 'base_experience', 'forms', 'game_indices', 'height', 'held_items', 'id', 'is_default', 'location_area_encounters', 'moves', 'name', 'order', 'species', 'sprites', 'stats', 'types', 'weight'])"
      ]
     },
     "execution_count": 5,
     "metadata": {},
     "output_type": "execute_result"
    }
   ],
   "source": [
    "data.keys()"
   ]
  },
  {
   "cell_type": "code",
   "execution_count": 7,
   "metadata": {},
   "outputs": [
    {
     "data": {
      "text/plain": [
       "4600"
      ]
     },
     "execution_count": 7,
     "metadata": {},
     "output_type": "execute_result"
    }
   ],
   "source": [
    "data['weight']"
   ]
  },
  {
   "cell_type": "code",
   "execution_count": 14,
   "metadata": {},
   "outputs": [
    {
     "name": "stdout",
     "output_type": "stream",
     "text": [
      "/Users/dronejournalismlab\r\n"
     ]
    }
   ],
   "source": [
    "!pwd"
   ]
  },
  {
   "cell_type": "code",
   "execution_count": null,
   "metadata": {},
   "outputs": [],
   "source": []
  }
 ],
 "metadata": {
  "kernelspec": {
   "display_name": "Python 3",
   "language": "python",
   "name": "python3"
  },
  "language_info": {
   "codemirror_mode": {
    "name": "ipython",
    "version": 3
   },
   "file_extension": ".py",
   "mimetype": "text/x-python",
   "name": "python",
   "nbconvert_exporter": "python",
   "pygments_lexer": "ipython3",
   "version": "3.6.5"
  }
 },
 "nbformat": 4,
 "nbformat_minor": 2
}
